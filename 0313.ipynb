{
  "nbformat": 4,
  "nbformat_minor": 0,
  "metadata": {
    "colab": {
      "provenance": [],
      "authorship_tag": "ABX9TyMH9rfSEPzJXe/In6nWwBmR",
      "include_colab_link": true
    },
    "kernelspec": {
      "name": "python3",
      "display_name": "Python 3"
    },
    "language_info": {
      "name": "python"
    }
  },
  "cells": [
    {
      "cell_type": "markdown",
      "metadata": {
        "id": "view-in-github",
        "colab_type": "text"
      },
      "source": [
        "<a href=\"https://colab.research.google.com/github/yufish0952/Introduction-to-Computers/blob/main/0313.ipynb\" target=\"_parent\"><img src=\"https://colab.research.google.com/assets/colab-badge.svg\" alt=\"Open In Colab\"/></a>"
      ]
    },
    {
      "cell_type": "code",
      "execution_count": 18,
      "metadata": {
        "colab": {
          "base_uri": "https://localhost:8080/"
        },
        "id": "GEs4fo3JrvAB",
        "outputId": "2d6c8bdb-3c51-4524-89e3-445c4b321f0d"
      },
      "outputs": [
        {
          "output_type": "stream",
          "name": "stdout",
          "text": [
            "<class 'int'>\n"
          ]
        }
      ],
      "source": [
        "X = 1\n",
        "print(type(X))"
      ]
    },
    {
      "cell_type": "code",
      "source": [
        "B = 1.5\n",
        "print(type(B))"
      ],
      "metadata": {
        "colab": {
          "base_uri": "https://localhost:8080/"
        },
        "id": "89qlgA3KtSay",
        "outputId": "ae16b598-c76b-45dd-dbe5-e58639f43941"
      },
      "execution_count": 8,
      "outputs": [
        {
          "output_type": "stream",
          "name": "stdout",
          "text": [
            "<class 'float'>\n"
          ]
        }
      ]
    },
    {
      "cell_type": "code",
      "source": [
        "a = True\n",
        "print(type(a))"
      ],
      "metadata": {
        "colab": {
          "base_uri": "https://localhost:8080/"
        },
        "id": "YIc8xsJBscLz",
        "outputId": "2915f8e2-8ef9-478d-dd18-da3524eeb099"
      },
      "execution_count": 3,
      "outputs": [
        {
          "output_type": "stream",
          "name": "stdout",
          "text": [
            "<class 'bool'>\n"
          ]
        }
      ]
    },
    {
      "cell_type": "code",
      "source": [
        "s = \"Hello, Goodbye\"\n",
        "print(s)\n",
        "print(type(s))"
      ],
      "metadata": {
        "colab": {
          "base_uri": "https://localhost:8080/"
        },
        "id": "lltBdWv9si68",
        "outputId": "86bb1bfa-e3da-48b7-e411-3c5d67dda466"
      },
      "execution_count": 4,
      "outputs": [
        {
          "output_type": "stream",
          "name": "stdout",
          "text": [
            "Hello, Goodbye\n",
            "<class 'str'>\n"
          ]
        }
      ]
    },
    {
      "cell_type": "code",
      "source": [
        "str1 = \"412578055\"\n",
        "str2 = \"余建廷\"\n",
        "print(str1 + str2)"
      ],
      "metadata": {
        "colab": {
          "base_uri": "https://localhost:8080/"
        },
        "id": "MFpVixrosvUE",
        "outputId": "0f83c202-e269-4384-872e-a8d38db309c7"
      },
      "execution_count": 5,
      "outputs": [
        {
          "output_type": "stream",
          "name": "stdout",
          "text": [
            "412578055余建廷\n"
          ]
        }
      ]
    },
    {
      "cell_type": "code",
      "source": [
        "str3 =\"412578055\"\n",
        "print(str3*3)"
      ],
      "metadata": {
        "colab": {
          "base_uri": "https://localhost:8080/"
        },
        "id": "q7oQkDw6tK4E",
        "outputId": "c8ed5a85-c78a-4119-840e-c33a1d3d110b"
      },
      "execution_count": 11,
      "outputs": [
        {
          "output_type": "stream",
          "name": "stdout",
          "text": [
            "412578055412578055412578055\n"
          ]
        }
      ]
    },
    {
      "cell_type": "code",
      "source": [
        "str4 =\"412578055\"\n",
        "print(len(str4))"
      ],
      "metadata": {
        "colab": {
          "base_uri": "https://localhost:8080/"
        },
        "id": "7zlIDABEtlub",
        "outputId": "9ba23d8c-860a-4273-b43c-de621acd5db8"
      },
      "execution_count": 12,
      "outputs": [
        {
          "output_type": "stream",
          "name": "stdout",
          "text": [
            "9\n"
          ]
        }
      ]
    },
    {
      "cell_type": "code",
      "source": [
        "str5 = \"余建廷\"\n",
        "str5[0]"
      ],
      "metadata": {
        "colab": {
          "base_uri": "https://localhost:8080/",
          "height": 35
        },
        "id": "56p43yUwuCBj",
        "outputId": "c57e3630-6511-41f9-aaa8-9845db9e523c"
      },
      "execution_count": 13,
      "outputs": [
        {
          "output_type": "execute_result",
          "data": {
            "text/plain": [
              "'余'"
            ],
            "application/vnd.google.colaboratory.intrinsic+json": {
              "type": "string"
            }
          },
          "metadata": {},
          "execution_count": 13
        }
      ]
    },
    {
      "cell_type": "code",
      "source": [
        "str6 =\"余建廷\"\n",
        "print(str6*20)\n",
        "print(len(str6*20))"
      ],
      "metadata": {
        "colab": {
          "base_uri": "https://localhost:8080/"
        },
        "id": "daQqof_PuNSs",
        "outputId": "a2d636d2-e6e0-42f6-d40a-1cbae8e01af2"
      },
      "execution_count": 17,
      "outputs": [
        {
          "output_type": "stream",
          "name": "stdout",
          "text": [
            "余建廷余建廷余建廷余建廷余建廷余建廷余建廷余建廷余建廷余建廷余建廷余建廷余建廷余建廷余建廷余建廷余建廷余建廷余建廷余建廷\n",
            "60\n"
          ]
        }
      ]
    },
    {
      "cell_type": "code",
      "source": [],
      "metadata": {
        "id": "yBL4t2DAu1JL"
      },
      "execution_count": null,
      "outputs": []
    }
  ]
}