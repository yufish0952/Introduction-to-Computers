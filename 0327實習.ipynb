{
  "nbformat": 4,
  "nbformat_minor": 0,
  "metadata": {
    "colab": {
      "provenance": [],
      "authorship_tag": "ABX9TyNa30PFihAtFuPvKXKTPgKu",
      "include_colab_link": true
    },
    "kernelspec": {
      "name": "python3",
      "display_name": "Python 3"
    },
    "language_info": {
      "name": "python"
    }
  },
  "cells": [
    {
      "cell_type": "markdown",
      "metadata": {
        "id": "view-in-github",
        "colab_type": "text"
      },
      "source": [
        "<a href=\"https://colab.research.google.com/github/yufish0952/Introduction-to-Computers/blob/main/0327%E5%AF%A6%E7%BF%92.ipynb\" target=\"_parent\"><img src=\"https://colab.research.google.com/assets/colab-badge.svg\" alt=\"Open In Colab\"/></a>"
      ]
    },
    {
      "cell_type": "code",
      "execution_count": 1,
      "metadata": {
        "colab": {
          "base_uri": "https://localhost:8080/"
        },
        "id": "UKgQhxlwaWhN",
        "outputId": "f8f6bbbf-b382-4877-ce20-6b80ddda8a71"
      },
      "outputs": [
        {
          "output_type": "stream",
          "name": "stdout",
          "text": [
            "請輸入攝氏溫度32.5\n",
            "90.5\n"
          ]
        }
      ],
      "source": [
        "攝氏 = float(input(\"請輸入攝氏溫度\"))\n",
        "\n",
        "#計算對應的華氏溫度\n",
        "華氏 = 攝氏 *9/5+32\n",
        "\n",
        "#輸入轉換後的華氏溫度\n",
        "print(華氏)"
      ]
    },
    {
      "cell_type": "code",
      "source": [
        "num = 2.9999999\n",
        "round_num = round(num, 1)\n",
        "print(round_num)"
      ],
      "metadata": {
        "colab": {
          "base_uri": "https://localhost:8080/"
        },
        "id": "Ifz8ZFIRaxS6",
        "outputId": "c2d4ee8f-2f54-43c7-f532-80d51bbb6be8"
      },
      "execution_count": 2,
      "outputs": [
        {
          "output_type": "stream",
          "name": "stdout",
          "text": [
            "3.0\n"
          ]
        }
      ]
    },
    {
      "cell_type": "code",
      "source": [
        "體重 = float(input(\"請輸入您的體重(公斤):\"))\n",
        "身高公分 = float(input(\"請輸入您的身高(公分):\"))\n",
        "\n",
        "BMI = 體重/(身高公分/100)**2\n",
        "BMI = round(BMI, 2)\n",
        "\n",
        "print(BMI)"
      ],
      "metadata": {
        "colab": {
          "base_uri": "https://localhost:8080/"
        },
        "id": "R9JoCm-JbD0J",
        "outputId": "7e118f9f-10a0-4dd7-b45b-97523049f923"
      },
      "execution_count": 3,
      "outputs": [
        {
          "output_type": "stream",
          "name": "stdout",
          "text": [
            "請輸入您的體重(公斤):85\n",
            "請輸入您的身高(公分):175\n",
            "27.76\n"
          ]
        }
      ]
    },
    {
      "cell_type": "code",
      "source": [
        "總和 = sum(range(1, 101))\n",
        "print(總和)"
      ],
      "metadata": {
        "colab": {
          "base_uri": "https://localhost:8080/"
        },
        "id": "8BcPgNg_bl5q",
        "outputId": "f5d96864-144c-4237-9ef6-08a570b5ca0a"
      },
      "execution_count": 6,
      "outputs": [
        {
          "output_type": "stream",
          "name": "stdout",
          "text": [
            "5050\n"
          ]
        }
      ]
    },
    {
      "cell_type": "code",
      "source": [
        "總和 = sum(range(1,50,2))\n",
        "print(總和)"
      ],
      "metadata": {
        "colab": {
          "base_uri": "https://localhost:8080/"
        },
        "id": "xUefd1wAbqWn",
        "outputId": "7fcd5c8f-5c9b-46cc-8fd5-28960de782c8"
      },
      "execution_count": 7,
      "outputs": [
        {
          "output_type": "stream",
          "name": "stdout",
          "text": [
            "625\n"
          ]
        }
      ]
    },
    {
      "cell_type": "code",
      "source": [],
      "metadata": {
        "id": "l1Vd2Tvlb-Xs"
      },
      "execution_count": null,
      "outputs": []
    }
  ]
}