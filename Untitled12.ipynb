{
  "nbformat": 4,
  "nbformat_minor": 0,
  "metadata": {
    "colab": {
      "provenance": [],
      "authorship_tag": "ABX9TyP8h8N+8q6c8f6JctXfSwtJ",
      "include_colab_link": true
    },
    "kernelspec": {
      "name": "python3",
      "display_name": "Python 3"
    },
    "language_info": {
      "name": "python"
    }
  },
  "cells": [
    {
      "cell_type": "markdown",
      "metadata": {
        "id": "view-in-github",
        "colab_type": "text"
      },
      "source": [
        "<a href=\"https://colab.research.google.com/github/yufish0952/Introduction-to-Computers/blob/main/Untitled12.ipynb\" target=\"_parent\"><img src=\"https://colab.research.google.com/assets/colab-badge.svg\" alt=\"Open In Colab\"/></a>"
      ]
    },
    {
      "cell_type": "code",
      "execution_count": null,
      "metadata": {
        "id": "WxLGDjCdK5BC"
      },
      "outputs": [],
      "source": []
    },
    {
      "cell_type": "code",
      "source": [
        "n = int(input())\n",
        "for i in range(1,n+1):\n",
        "  print(i * \"*\")"
      ],
      "metadata": {
        "colab": {
          "base_uri": "https://localhost:8080/"
        },
        "id": "84MGLB_mNZ0-",
        "outputId": "57e2b630-eb96-4703-ecc3-c4ecb32f53c4"
      },
      "execution_count": 2,
      "outputs": [
        {
          "output_type": "stream",
          "name": "stdout",
          "text": [
            "5\n",
            "*\n",
            "**\n",
            "***\n",
            "****\n",
            "*****\n"
          ]
        }
      ]
    },
    {
      "cell_type": "code",
      "source": [
        "a = input(\"請輸入月份\")\n",
        "a = int(a)\n",
        "if(a>=3 and a<=5):\n",
        "  print(a ,\"is spring\")\n",
        "elif(a>=6 and a<=8):\n",
        "  print(a ,\"is summer\")\n",
        "if(a>=9 and a<=11):\n",
        "  print(a ,\"is autumn\")\n",
        "elif(a==12 or a==1 or a==2):\n",
        "  print(a ,\"is winter\")\n",
        "if(a>=13 or a<1):\n",
        "  print(\"error\")"
      ],
      "metadata": {
        "colab": {
          "base_uri": "https://localhost:8080/"
        },
        "id": "qrnTjh6fNlIg",
        "outputId": "117cdd89-f70c-4063-8f61-f9b954337b3c"
      },
      "execution_count": 10,
      "outputs": [
        {
          "output_type": "stream",
          "name": "stdout",
          "text": [
            "請輸入月份12\n",
            "12 is winter\n"
          ]
        }
      ]
    },
    {
      "cell_type": "code",
      "source": [
        "monthA = int(input())\n",
        "if(3 <= monthA <= 5):\n",
        "  print('{} is summer'.format(monthA))\n",
        "elif(6 <= monthA <= 8):\n",
        "  print('{} is summer'.format(monthA))\n",
        "elif(9 <= monthA <= 11):\n",
        "  print('{} is autumn'.format(monthA))\n",
        "elif(monthA == 12 or monthA == 1 or monthA == 2):\n",
        "  print('{} is winter'.format(monthA))\n",
        "else:\n",
        "  print('input error')"
      ],
      "metadata": {
        "colab": {
          "base_uri": "https://localhost:8080/"
        },
        "id": "KzMJSa55Puw_",
        "outputId": "cf2bbd73-97ae-4c36-9ff6-cb8c3e9f4689"
      },
      "execution_count": 14,
      "outputs": [
        {
          "output_type": "stream",
          "name": "stdout",
          "text": [
            "13\n",
            "input error\n"
          ]
        }
      ]
    },
    {
      "cell_type": "code",
      "source": [
        "A = int(input())\n",
        "if(90 <= A <= 100):\n",
        "  print('{} is A'.format(A))\n",
        "elif(80 <= A <= 89):\n",
        "  print('{} is B'.format(A))\n",
        "elif(70 <= A <= 79):\n",
        "  print('{} is C'.format(A))\n",
        "elif(60 <= A <= 69):\n",
        "  print('{} is D'.format(A))\n",
        "elif(0 <= A <= 59):\n",
        "  print('{} is E'.format(A))\n",
        "else:\n",
        "  print('{} is error'.format(A))"
      ],
      "metadata": {
        "colab": {
          "base_uri": "https://localhost:8080/"
        },
        "id": "pScFeYjiRFup",
        "outputId": "9e1cdfd1-d2b1-490f-b365-e48481ded959"
      },
      "execution_count": 15,
      "outputs": [
        {
          "output_type": "stream",
          "name": "stdout",
          "text": [
            "102\n",
            "102 is error\n"
          ]
        }
      ]
    }
  ]
}