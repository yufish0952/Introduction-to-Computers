{
  "nbformat": 4,
  "nbformat_minor": 0,
  "metadata": {
    "colab": {
      "provenance": [],
      "authorship_tag": "ABX9TyME90K8ChVO2DHaumQbcm7G",
      "include_colab_link": true
    },
    "kernelspec": {
      "name": "python3",
      "display_name": "Python 3"
    },
    "language_info": {
      "name": "python"
    }
  },
  "cells": [
    {
      "cell_type": "markdown",
      "metadata": {
        "id": "view-in-github",
        "colab_type": "text"
      },
      "source": [
        "<a href=\"https://colab.research.google.com/github/yufish0952/Introduction-to-Computers/blob/main/Untitled8.ipynb\" target=\"_parent\"><img src=\"https://colab.research.google.com/assets/colab-badge.svg\" alt=\"Open In Colab\"/></a>"
      ]
    },
    {
      "cell_type": "code",
      "execution_count": 1,
      "metadata": {
        "colab": {
          "base_uri": "https://localhost:8080/"
        },
        "id": "O121irgJD3kK",
        "outputId": "98516469-7a7a-4626-9b55-ee591ea7f997"
      },
      "outputs": [
        {
          "output_type": "stream",
          "name": "stdout",
          "text": [
            "你年齡太小\n",
            "須年滿20歲才可以購買菸酒\n"
          ]
        }
      ],
      "source": [
        "age = 18\n",
        "if(age<20):\n",
        "  print(\"你年齡太小\")\n",
        "  print(\"須年滿20歲才可以購買菸酒\")"
      ]
    },
    {
      "cell_type": "code",
      "source": [
        "age = 18\n",
        "if(age<20):\n",
        "print(\"你年齡太小\")\n",
        "  print(\"須年滿20歲才可以購買菸酒\")"
      ],
      "metadata": {
        "colab": {
          "base_uri": "https://localhost:8080/",
          "height": 106
        },
        "id": "ImU14OYVFEFg",
        "outputId": "dcc9adc7-b717-4d6f-9e38-d92862da8d58"
      },
      "execution_count": 2,
      "outputs": [
        {
          "output_type": "error",
          "ename": "IndentationError",
          "evalue": "expected an indented block after 'if' statement on line 2 (<ipython-input-2-65783f04b3a8>, line 3)",
          "traceback": [
            "\u001b[0;36m  File \u001b[0;32m\"<ipython-input-2-65783f04b3a8>\"\u001b[0;36m, line \u001b[0;32m3\u001b[0m\n\u001b[0;31m    print(\"你年齡太小\")\u001b[0m\n\u001b[0m    ^\u001b[0m\n\u001b[0;31mIndentationError\u001b[0m\u001b[0;31m:\u001b[0m expected an indented block after 'if' statement on line 2\n"
          ]
        }
      ]
    },
    {
      "cell_type": "code",
      "source": [
        "age = input(\"請輸入年齡\")\n",
        "if(int(age)<20):\n",
        "  print(\"你年齡太小\")\n",
        "  print(\"須年滿20歲才可以購買菸酒\")\n",
        "else:\n",
        "  print(\"歡迎購買菸酒\")"
      ],
      "metadata": {
        "colab": {
          "base_uri": "https://localhost:8080/"
        },
        "id": "t-esaZm2Fpr-",
        "outputId": "d9988241-3cc7-4e44-957b-4e3c0bf2f8e0"
      },
      "execution_count": 3,
      "outputs": [
        {
          "output_type": "stream",
          "name": "stdout",
          "text": [
            "請輸入年齡18\n",
            "你年齡太小\n",
            "須年滿20歲才可以購買菸酒\n"
          ]
        }
      ]
    },
    {
      "cell_type": "code",
      "source": [
        "age = input(\"請輸入年齡\")\n",
        "if(int(age)<20):\n",
        "  print(\"你年齡太小\")\n",
        "  print(\"須年滿20歲才可以購買菸酒\")\n",
        "else:\n",
        "  print(\"歡迎購買菸酒\")"
      ],
      "metadata": {
        "colab": {
          "base_uri": "https://localhost:8080/"
        },
        "id": "cu7XimOfGNPv",
        "outputId": "f0f6f901-89c5-4c75-cf39-2b34ed3bc04c"
      },
      "execution_count": 4,
      "outputs": [
        {
          "output_type": "stream",
          "name": "stdout",
          "text": [
            "請輸入年齡23\n",
            "歡迎購買菸酒\n"
          ]
        }
      ]
    },
    {
      "cell_type": "code",
      "source": [
        "print(\"計算最終成績\")\n",
        "score = input(\"請輸入成績\")\n",
        "sc = int(score)\n",
        "if(sc>=90):\n",
        "  print(\"A\")\n",
        "elif(sc>=80):\n",
        "  print(\"B\")\n",
        "elif(sc>=70):\n",
        "  print(\"C\")\n",
        "elif(sc>=60):\n",
        "  print(\"D\")\n",
        "else:\n",
        "  print(\"F\")"
      ],
      "metadata": {
        "colab": {
          "base_uri": "https://localhost:8080/"
        },
        "id": "dEJi0V1JGSw2",
        "outputId": "7de044e7-55f4-41fb-d894-7fafdb37c530"
      },
      "execution_count": 5,
      "outputs": [
        {
          "output_type": "stream",
          "name": "stdout",
          "text": [
            "計算最終成績\n",
            "請輸入成績80\n",
            "B\n"
          ]
        }
      ]
    },
    {
      "cell_type": "code",
      "source": [
        "print(\"判斷輸入年分是否閏年\")\n",
        "year = int(input(\"請輸入年分:\"))\n",
        "rem4 = year % 4\n",
        "rem100 = year % 100\n",
        "rem400 = year % 400\n",
        "if rem4 == 0:\n",
        "  if rem100 != 0 or rem400 == 0:\n",
        "    print(\"是閏年\", year)\n",
        "  else:\n",
        "    print(\"不是閏年:\", year)\n",
        "    print(\"是平年:\", year)\n",
        "else:\n",
        "    print(\"是平年:\", year)"
      ],
      "metadata": {
        "colab": {
          "base_uri": "https://localhost:8080/"
        },
        "id": "JFSDYFQLHOlv",
        "outputId": "e29cf811-6c61-4478-dcd9-fbf9a90929fd"
      },
      "execution_count": 8,
      "outputs": [
        {
          "output_type": "stream",
          "name": "stdout",
          "text": [
            "判斷輸入年分是否閏年\n",
            "請輸入年分:50\n",
            "是平年: 50\n"
          ]
        }
      ]
    },
    {
      "cell_type": "code",
      "source": [
        "score = int(input(\"請輸入正整數\"))\n",
        "if score <=0:\n",
        " print(\"錯誤\")\n",
        "elif score % 2 == 0:\n",
        "  print(f\"{score} is even\")\n",
        "else:\n",
        "  print(f\"{score} is odd\")"
      ],
      "metadata": {
        "colab": {
          "base_uri": "https://localhost:8080/"
        },
        "id": "-kGogOYIIip3",
        "outputId": "b22cb81d-b7ef-4861-a1b4-7bade0a92a62"
      },
      "execution_count": 13,
      "outputs": [
        {
          "output_type": "stream",
          "name": "stdout",
          "text": [
            "請輸入正整數2\n",
            "2 is even\n"
          ]
        }
      ]
    },
    {
      "cell_type": "code",
      "source": [],
      "metadata": {
        "id": "6W-d-unTJcFu"
      },
      "execution_count": null,
      "outputs": []
    }
  ]
}