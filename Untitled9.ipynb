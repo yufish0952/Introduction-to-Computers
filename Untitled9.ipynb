{
  "nbformat": 4,
  "nbformat_minor": 0,
  "metadata": {
    "colab": {
      "provenance": [],
      "authorship_tag": "ABX9TyNCg7dfL5U6b8Z11ogx2kH9",
      "include_colab_link": true
    },
    "kernelspec": {
      "name": "python3",
      "display_name": "Python 3"
    },
    "language_info": {
      "name": "python"
    }
  },
  "cells": [
    {
      "cell_type": "markdown",
      "metadata": {
        "id": "view-in-github",
        "colab_type": "text"
      },
      "source": [
        "<a href=\"https://colab.research.google.com/github/yufish0952/Introduction-to-Computers/blob/main/Untitled9.ipynb\" target=\"_parent\"><img src=\"https://colab.research.google.com/assets/colab-badge.svg\" alt=\"Open In Colab\"/></a>"
      ]
    },
    {
      "cell_type": "code",
      "execution_count": 5,
      "metadata": {
        "id": "TDpZA1cFxfvr",
        "colab": {
          "base_uri": "https://localhost:8080/"
        },
        "outputId": "7e942b2e-55c2-4e85-af8c-46dade9cfe60"
      },
      "outputs": [
        {
          "output_type": "stream",
          "name": "stdout",
          "text": [
            "請輸入體溫39\n",
            "體溫過高!\n"
          ]
        }
      ],
      "source": [
        "a = input(\"請輸入體溫\")\n",
        "a = int(a)\n",
        "if(a>=37.5):\n",
        "  print(\"體溫過高!\")\n",
        "elif(a>=37 and a<=37.4):\n",
        "    print(\"體溫略高!\")\n",
        "elif(a>=34 and a<=36.9):\n",
        "    print(\"體溫正常!\")\n",
        "else:\n",
        "    print(\"體溫異常，請重新量測\")\n",
        "    print(\"體溫正常\")"
      ]
    },
    {
      "cell_type": "code",
      "source": [
        "score = input(\"請輸入成績\")\n",
        "sc = int(score)\n",
        "if(sc>=90):\n",
        "  print(\"A\")\n",
        "elif(sc>=80):\n",
        "  print(\"B\")\n",
        "elif(sc>=70):\n",
        "  print(\"C\")\n",
        "elif(sc>=60):\n",
        "  print(\"D\")\n",
        "else:\n",
        "  print(\"E\")"
      ],
      "metadata": {
        "colab": {
          "base_uri": "https://localhost:8080/"
        },
        "id": "ybSCmnRd0V4Q",
        "outputId": "d56478b9-f21d-47de-9ca3-f6ea9ad91b8e"
      },
      "execution_count": 7,
      "outputs": [
        {
          "output_type": "stream",
          "name": "stdout",
          "text": [
            "請輸入成績90\n",
            "A\n"
          ]
        }
      ]
    },
    {
      "cell_type": "code",
      "source": [
        "a = input(\"請輸入月份\")\n",
        "a = int(a)\n",
        "if(a>=3 and a<=5):\n",
        "  print(a ,\"月是春天\")\n",
        "elif(a>=6 and a<=8):\n",
        "  print(a ,\"月是夏天\")\n",
        "elif(a>=9 and a<=11):\n",
        "  print(a ,\"月是秋天\")\n",
        "else:\n",
        "  print(a ,\"月是冬天\")"
      ],
      "metadata": {
        "colab": {
          "base_uri": "https://localhost:8080/"
        },
        "id": "iQLrgxr-1sHJ",
        "outputId": "e87c0970-c89f-4634-fe58-30ac388bb2e4"
      },
      "execution_count": 8,
      "outputs": [
        {
          "output_type": "stream",
          "name": "stdout",
          "text": [
            "請輸入月份3\n",
            "3 月是春天\n"
          ]
        }
      ]
    },
    {
      "cell_type": "code",
      "source": [],
      "metadata": {
        "id": "i0Bmq8Mn2PiK"
      },
      "execution_count": null,
      "outputs": []
    }
  ]
}